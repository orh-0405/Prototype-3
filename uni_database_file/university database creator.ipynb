{
 "cells": [
  {
   "cell_type": "code",
   "execution_count": 26,
   "metadata": {},
   "outputs": [
    {
     "name": "stdout",
     "output_type": "stream",
     "text": [
      "database created\n"
     ]
    }
   ],
   "source": [
    "## Create the database\n",
    "def create_database(dbfile):\n",
    "    import sqlite3\n",
    "    from sqlite3 import Error\n",
    "    try:\n",
    "        conn = sqlite3.connect(dbfile)\n",
    "        print(\"database created\")\n",
    "    except Error as e:\n",
    "        print(e)\n",
    "    finally:\n",
    "        if conn:\n",
    "            conn.close()\n",
    "        \n",
    "#Driver Code\n",
    "#create_database('Social_car.db')\n",
    "#create_database('Practical_car.db')\n",
    "create_database('Data_car.db')"
   ]
  },
  {
   "cell_type": "code",
   "execution_count": 27,
   "metadata": {},
   "outputs": [
    {
     "name": "stdout",
     "output_type": "stream",
     "text": [
      "Database closed\n"
     ]
    }
   ],
   "source": [
    "## Connecting to database\n",
    "def connect_database(dbfile):\n",
    "    import sqlite3\n",
    "    try:\n",
    "        conn = sqlite3.connect(dbfile)\n",
    "        return conn\n",
    "    except Error as e:\n",
    "        print(e)\n",
    " \n",
    "    return conn\n",
    "        \n",
    "#Driver code\n",
    "#conn = connect_database(\"Social_car.db\")\n",
    "conn = connect_database(\"Practical_car.db\")\n",
    "#conn = connect_database(\"Data_car.db\")\n",
    "conn.close()\n",
    "print(\"Database closed\")"
   ]
  },
  {
   "cell_type": "code",
   "execution_count": 45,
   "metadata": {},
   "outputs": [
    {
     "name": "stdout",
     "output_type": "stream",
     "text": [
      "Table created\n",
      "Database closed\n"
     ]
    }
   ],
   "source": [
    "## Creating tables in databases\n",
    "\n",
    "def create_table(conn, table_name):\n",
    "    import sqlite3\n",
    "    from sqlite3 import Error\n",
    "    sql = F\"\"\"CREATE TABLE {table_name}(\n",
    "            ID INTEGER PRIMARY KEY AUTOINCREMENT UNIQUE,\n",
    "            University TEXT NOT NULL,\n",
    "            Criteria TEXT NOT NULL,\n",
    "            Reference TEXT NOT NULL)\"\"\"\n",
    "    try:\n",
    "        conn.execute(sql)\n",
    "        print(\"Table created\")\n",
    "    except Error as e:\n",
    "        print(e)\n",
    "        \n",
    "#Driver code\n",
    "table_name = \"Engineering\"\n",
    "#conn = connect_database(\"Social_car.db\")\n",
    "conn = connect_database(\"Practical_car.db\")\n",
    "create_table(conn, table_name)\n",
    "conn.close() \n",
    "print(\"Database closed\")"
   ]
  },
  {
   "cell_type": "code",
   "execution_count": 46,
   "metadata": {},
   "outputs": [
    {
     "name": "stdout",
     "output_type": "stream",
     "text": [
      "Database closed\n"
     ]
    }
   ],
   "source": [
    "# Question 4\n",
    "def create_data(conn, values_sql, table_name):\n",
    "    import sqlite3\n",
    "    from sqlite3 import Error\n",
    "    \n",
    "    sql = f\"INSERT INTO {table_name}(ID, University, Criteria, Reference) \"\n",
    "    \n",
    "    try:\n",
    "        conn.execute(sql+values_sql)\n",
    "    except Error as e:\n",
    "        print(e)\n",
    "\n",
    "\n",
    "def bulk_import(conn, csv_file, table_name):\n",
    "    import csv\n",
    "    import sqlite3\n",
    "    from sqlite3 import Error\n",
    "    \n",
    "    rows = []\n",
    "    with open(csv_file, \"r\") as f:\n",
    "        csvreader = csv.reader(f)\n",
    "        next(csvreader)\n",
    "        for row in csvreader:\n",
    "            rows.append(row)\n",
    "            \n",
    "    #print(rows)\n",
    "    \n",
    "    for row in rows:\n",
    "        create_data_sql = \"VALUES(\"\n",
    "        for col in row:\n",
    "            try:\n",
    "                col = int(col)\n",
    "                create_data_sql += f\"{col}, \"\n",
    "            except:\n",
    "                create_data_sql += f\"'{col}', \"\n",
    "        create_data_sql = create_data_sql[:-2] +\")\"\n",
    "        \n",
    "        create_data(conn, create_data_sql, table_name)\n",
    "        \n",
    "    conn.commit()\n",
    "    \n",
    "    \n",
    "\n",
    "#Driver code\n",
    "table_name = \"Engineering\"\n",
    "conn = connect_database(\"Practical_car.db\")\n",
    "bulk_import(conn, \"University Requirements - practical_engineering.csv\", table_name)\n",
    "conn.close() \n",
    "print(\"Database closed\")"
   ]
  },
  {
   "cell_type": "code",
   "execution_count": 8,
   "metadata": {},
   "outputs": [],
   "source": [
    "\n",
    "data_jobs = []\n",
    "\n",
    "dbs = [\"Data\", \"Practical\", \"Social\"]\n",
    "for i in range(len(dbs)):\n",
    "    db_name = dbs[i] + \"_car.db\"\n",
    "    conn = connect_database(db_name)\n",
    "    #conn.create_table(conn, 'Jobs_Avail')\n",
    "    conn.close()\n",
    "    \n"
   ]
  },
  {
   "cell_type": "code",
   "execution_count": 19,
   "metadata": {},
   "outputs": [
    {
     "name": "stdout",
     "output_type": "stream",
     "text": [
      "table Jobs_Avail already exists\n",
      "SUCCESS\n",
      "SUCCESS\n"
     ]
    }
   ],
   "source": [
    "s1 = \"\"\"Biomedical engineering\n",
    "Chemical engineering\n",
    "Physical engineering\n",
    "Aerospace engineering\n",
    "Environmental engineering\"\"\"\n",
    "s2 = \"\"\"Doctor\n",
    "Dentist\n",
    "Veterinarian\n",
    "Pharmacist\n",
    "Physical therapists\n",
    "\"\"\"\n",
    "lst = [['Engineering', s1], ['Medicine and healthcare',s2]]\n",
    "\n",
    "\n",
    "db_name = \"Practical_car.db\"\n",
    "conn = connect_database(db_name)\n",
    "\n",
    "import sqlite3\n",
    "from sqlite3 import Error\n",
    "\n",
    "sql = F\"\"\"CREATE TABLE Jobs_Avail(\n",
    "            ID INTEGER PRIMARY KEY AUTOINCREMENT UNIQUE,\n",
    "            Industry TEXT NOT NULL,\n",
    "            Jobs TEXT NOT NULL)\"\"\"\n",
    "try:\n",
    "    conn.execute(sql)\n",
    "    print(\"Table created\")\n",
    "except Error as e:\n",
    "    print(e)\n",
    "\n",
    "for l in lst:\n",
    "    sql = f\"INSERT INTO Jobs_Avail(Industry, Jobs) VALUES(?,?)\"\n",
    "\n",
    "    try:\n",
    "        conn.execute(sql, tuple(l))\n",
    "        print(\"SUCCESS\")\n",
    "    except Error as e:\n",
    "        print(e)\n",
    "\n",
    "\n",
    "conn.commit()\n",
    "conn.close()"
   ]
  },
  {
   "cell_type": "code",
   "execution_count": 10,
   "metadata": {},
   "outputs": [
    {
     "name": "stdout",
     "output_type": "stream",
     "text": [
      "Biomedical engineering\n",
      "Chemical engineering\n",
      "Physical engineering\n",
      "Aerospace engineering\n",
      "Environmental engineering\n",
      "Doctor\n",
      "Dentist\n",
      "Veterinarian\n",
      "Pharmacist\n",
      "Physical therapists\n",
      "\n"
     ]
    }
   ],
   "source": [
    "practical_jobs = [['Biomedical engineering', 'Chemical engineering', 'Physical engineering', 'Aerospace engineering', 'Environmental engineering'], ['Doctor', 'Dentist', 'Veterinarian', 'Pharmacist', 'Physical therapists']]\n",
    "\n",
    "string = \"\"\n",
    "for job in practical_jobs:\n",
    "    for j in job:\n",
    "        string += j + \"\\n\"\n",
    "print(string)\n",
    "\n"
   ]
  },
  {
   "cell_type": "code",
   "execution_count": 44,
   "metadata": {
    "scrolled": false
   },
   "outputs": [
    {
     "name": "stdout",
     "output_type": "stream",
     "text": [
      "Applicants submitting the Singapore-Cambridge GCE A Levels must have obtained passes in at least two subjects at A/H2 Level and offered either General Paper (GP) or Knowledge & Inquiry (KI) in the same sitting.\n",
      "In addition, applicants must meet one of the following Mother Tongue Language (MTL) requirements:\n",
      "- A minimum S grade for the H1 or H2 MTL paper or General Studies in Chinese taken at the GCE A Level examination\n",
      "- Pass in the MTL B Syllabus paper at the A Level examination\n",
      "- A minimum D7 for the higher MTL paper taken at the O Level examination.\n",
      "\n",
      "Chemical Engineering, Electronics and Data Engineering\n",
      "- H2 Mathematics, and a H2 Science subject (Biology, Chemistry or Physics)\n",
      "\n"
     ]
    }
   ],
   "source": [
    "string = \"\"\"Applicants submitting the Singapore-Cambridge GCE A Levels must have obtained passes in at least two subjects at A/H2 Level and offered either General Paper (GP) or Knowledge & Inquiry (KI) in the same sitting.\n",
    "In addition, applicants must meet one of the following Mother Tongue Language (MTL) requirements:\n",
    "- A minimum 'S' grade for the H1 or H2 MTL paper or General Studies in Chinese taken at the GCE A Level examination\n",
    "- Pass in the MTL 'B' Syllabus paper at the A Level examination\n",
    "- A minimum D7 for the higher MTL paper taken at the O Level examination.\n",
    "\n",
    "Chemical Engineering, Electronics and Data Engineering\n",
    "- H2 Mathematics, and a H2 Science subject (Biology, Chemistry or Physics)\n",
    "\"\"\"\n",
    "\n",
    "result = \"\"\n",
    "for s in string:\n",
    "    if s not in \"‘’'\":\n",
    "        result += s\n",
    "        \n",
    "print(result)"
   ]
  },
  {
   "cell_type": "code",
   "execution_count": 56,
   "metadata": {
    "scrolled": false
   },
   "outputs": [
    {
     "name": "stdout",
     "output_type": "stream",
     "text": [
      "\n",
      " Aerospace engineering \n",
      "- with a minor in Business \n",
      "- with a minor in International Trading  \n",
      "- and Economics  \n",
      "\n",
      " Mechanical engineering \n",
      "- with a minor in Business \n",
      "- with a minor in International Trading \n",
      "- & Economics \n",
      "\n",
      " Bioengineering\n",
      "- Minor in Business \n",
      "- Minor in International Trading \n",
      "- Economics \n",
      "\n",
      " Chemical and Biomolecular Engineering\n",
      "- Biomolecular Engineering with Minor in Business \n",
      "- Biomolecular Engineering with Minor in International Trading \n",
      "- Biomolecular Engineering & Economics \n",
      "\n",
      " Civil engineering\n",
      "- with a minor in Business \n",
      "- with a minor in International Trading  \n",
      "- and economics \n",
      "\n",
      " Environmental engineering \n",
      "- with a minor in Business \n",
      "- with a minor in International Trading  \n",
      "\n",
      " Electrical and Electronic engineering \n",
      "- Electronic engineering with a minor in Business  \n",
      "- Electronic engineering with a major in Business \n",
      "- Electronic engineering and Economics  \n",
      "\n",
      " Information engineering and Media\n",
      "- and Media with a minor in Business \n",
      "- with Media with a minor in International Trading \n",
      "- and Media and Economics  \n",
      "\n",
      " Maritime studies \n",
      "\n",
      " Materials engineering \n",
      "- with a minor in International Trading \n",
      "- and Economics \n",
      "\n",
      " Common Engineering\n",
      "- with Minor in Business \n",
      "- with Minor in International Trading \n"
     ]
    }
   ],
   "source": [
    "s = \"\"\"Aerospace engineering \n",
    "Aerospace engineering with a minor in Business\n",
    "Aerospace engineering with a minor in International Trading \n",
    "Aerospace engineering and Economics \n",
    "Mechanical engineering \n",
    "Mechanical engineering with a minor in Business\n",
    "Mechanical engineering with a minor in International Trading\n",
    "Mechanical Engineering & Economics\n",
    "Bioengineering\n",
    "Bioengineering with Minor in Business\n",
    "Bioengineering with Minor in International Trading\n",
    "Bioengineering & Economics\n",
    "Chemical and Biomolecular Engineering\n",
    "Chemical and Biomolecular Engineering with Minor in Business\n",
    "Chemical and Biomolecular Engineering with Minor in International Trading\n",
    "Chemical and Biomolecular Engineering & Economics\n",
    "Civil engineering\n",
    "Civil engineering with a minor in Business\n",
    "Civil engineering with a minor in International Trading \n",
    "Civil engineering and economics\n",
    "Environmental engineering \n",
    "Environmental engineering with a minor in Business\n",
    "Environmental engineering with a minor in International Trading \n",
    "Electrical and Electronic engineering \n",
    "Electrical and Electronic engineering with a minor in Business \n",
    "Electrical and Electronic engineering with a major in Business\n",
    "Electrical and Electronic engineering and Economics \n",
    "Information engineering and Media\n",
    "Information engineering and Media with a minor in Business\n",
    "Information engineering with Media with a minor in International Trading\n",
    "Information engineering and Media and Economics \n",
    "Maritime studies \n",
    "Materials engineering \n",
    "Materials engineering with a minor in International Trading\n",
    "Materials engineering and Economics\n",
    "Common Engineering\n",
    "Common Engineering with Minor in Business\n",
    "Common Engineering with Minor in International Trading\"\"\"\n",
    "\n",
    "s = s.split('\\n')\n",
    "\n",
    "for i in range(len(s)):\n",
    "    message = \"\"\n",
    "    x = s[i].split(\" \")\n",
    "    #print(x)\n",
    "    y = s[i-1].split(\" \")\n",
    "    if x[0] == y[0]:\n",
    "        message += \"- \" \n",
    "        for j in range(2, len(x)):\n",
    "            message += x[j] + \" \"\n",
    "        print(message)\n",
    "    else:\n",
    "        print(\"\\n\", s[i])"
   ]
  },
  {
   "cell_type": "code",
   "execution_count": null,
   "metadata": {},
   "outputs": [],
   "source": []
  }
 ],
 "metadata": {
  "kernelspec": {
   "display_name": "Python 3",
   "language": "python",
   "name": "python3"
  },
  "language_info": {
   "codemirror_mode": {
    "name": "ipython",
    "version": 3
   },
   "file_extension": ".py",
   "mimetype": "text/x-python",
   "name": "python",
   "nbconvert_exporter": "python",
   "pygments_lexer": "ipython3",
   "version": "3.8.7"
  }
 },
 "nbformat": 4,
 "nbformat_minor": 4
}
