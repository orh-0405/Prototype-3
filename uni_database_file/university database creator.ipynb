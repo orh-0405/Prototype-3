{
 "cells": [
  {
   "cell_type": "code",
   "execution_count": 14,
   "metadata": {},
   "outputs": [
    {
     "name": "stdout",
     "output_type": "stream",
     "text": [
      "database created\n"
     ]
    }
   ],
   "source": [
    "## Create the database\n",
    "def create_database(dbfile):\n",
    "    import sqlite3\n",
    "    from sqlite3 import Error\n",
    "    try:\n",
    "        conn = sqlite3.connect(dbfile)\n",
    "        print(\"database created\")\n",
    "    except Error as e:\n",
    "        print(e)\n",
    "    finally:\n",
    "        if conn:\n",
    "            conn.close()\n",
    "        \n",
    "#Driver Code\n",
    "#create_database('Social_car.db')\n",
    "#create_database('Practical_car.db')\n",
    "create_database('Data_car.db')"
   ]
  },
  {
   "cell_type": "code",
   "execution_count": 15,
   "metadata": {},
   "outputs": [
    {
     "name": "stdout",
     "output_type": "stream",
     "text": [
      "Database closed\n"
     ]
    }
   ],
   "source": [
    "## Connecting to database\n",
    "def connect_database(dbfile):\n",
    "    import sqlite3\n",
    "    try:\n",
    "        conn = sqlite3.connect(dbfile)\n",
    "        return conn\n",
    "    except Error as e:\n",
    "        print(e)\n",
    " \n",
    "    return conn\n",
    "        \n",
    "#Driver code\n",
    "#conn = connect_database(\"Social_car.db\")\n",
    "#conn = connect_database(\"Practical_car.db\")\n",
    "conn = connect_database(\"Data_car.db\")\n",
    "conn.close()\n",
    "print(\"Database closed\")"
   ]
  },
  {
   "cell_type": "code",
   "execution_count": 18,
   "metadata": {},
   "outputs": [
    {
     "name": "stdout",
     "output_type": "stream",
     "text": [
      "Table created\n",
      "Database closed\n"
     ]
    }
   ],
   "source": [
    "## Creating tables in databases\n",
    "\n",
    "def create_table(conn, table_name):\n",
    "    import sqlite3\n",
    "    from sqlite3 import Error\n",
    "    sql = F\"\"\"CREATE TABLE {table_name}(\n",
    "            ID INTEGER PRIMARY KEY AUTOINCREMENT UNIQUE,\n",
    "            University TEXT NOT NULL,\n",
    "            Criteria TEXT NOT NULL,\n",
    "            Reference TEXT NOT NULL)\"\"\"\n",
    "    try:\n",
    "        conn.execute(sql)\n",
    "        print(\"Table created\")\n",
    "    except Error as e:\n",
    "        print(e)\n",
    "        \n",
    "#Driver code\n",
    "table_name = \"Computing\"\n",
    "#conn = connect_database(\"Social_car.db\")\n",
    "conn = connect_database(\"Data_car.db\")\n",
    "create_table(conn, table_name)\n",
    "conn.close() \n",
    "print(\"Database closed\")"
   ]
  },
  {
   "cell_type": "code",
   "execution_count": 19,
   "metadata": {},
   "outputs": [
    {
     "name": "stdout",
     "output_type": "stream",
     "text": [
      "Database closed\n"
     ]
    }
   ],
   "source": [
    "# Question 4\n",
    "def create_data(conn, values_sql, table_name):\n",
    "    import sqlite3\n",
    "    from sqlite3 import Error\n",
    "    \n",
    "    sql = f\"INSERT INTO {table_name}(ID, University, Criteria, Reference) \"\n",
    "    \n",
    "    try:\n",
    "        conn.execute(sql+values_sql)\n",
    "    except Error as e:\n",
    "        print(e)\n",
    "\n",
    "\n",
    "def bulk_import(conn, csv_file, table_name):\n",
    "    import csv\n",
    "    import sqlite3\n",
    "    from sqlite3 import Error\n",
    "    \n",
    "    rows = []\n",
    "    with open(csv_file, \"r\") as f:\n",
    "        csvreader = csv.reader(f)\n",
    "        next(csvreader)\n",
    "        for row in csvreader:\n",
    "            rows.append(row)\n",
    "            \n",
    "    #print(rows)\n",
    "    \n",
    "    for row in rows:\n",
    "        create_data_sql = \"VALUES(\"\n",
    "        for col in row:\n",
    "            try:\n",
    "                col = int(col)\n",
    "                create_data_sql += f\"{col}, \"\n",
    "            except:\n",
    "                create_data_sql += f\"'{col}', \"\n",
    "        create_data_sql = create_data_sql[:-2] +\")\"\n",
    "        \n",
    "        create_data(conn, create_data_sql, table_name)\n",
    "        \n",
    "    conn.commit()\n",
    "    \n",
    "    \n",
    "\n",
    "#Driver code\n",
    "table_name = \"Computing\"\n",
    "conn = connect_database(\"Data_car.db\")\n",
    "bulk_import(conn, \"University Requirements - data_car_computing.csv\", table_name)\n",
    "conn.close() \n",
    "print(\"Database closed\")"
   ]
  }
 ],
 "metadata": {
  "kernelspec": {
   "display_name": "Python 3",
   "language": "python",
   "name": "python3"
  },
  "language_info": {
   "codemirror_mode": {
    "name": "ipython",
    "version": 3
   },
   "file_extension": ".py",
   "mimetype": "text/x-python",
   "name": "python",
   "nbconvert_exporter": "python",
   "pygments_lexer": "ipython3",
   "version": "3.8.7"
  }
 },
 "nbformat": 4,
 "nbformat_minor": 4
}
