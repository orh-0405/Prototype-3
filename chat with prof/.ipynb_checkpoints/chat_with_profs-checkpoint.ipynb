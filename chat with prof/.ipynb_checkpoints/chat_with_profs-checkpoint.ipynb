{
 "cells": [
  {
   "cell_type": "code",
   "execution_count": 4,
   "metadata": {},
   "outputs": [
    {
     "name": "stdout",
     "output_type": "stream",
     "text": [
      "connect successful\n"
     ]
    }
   ],
   "source": [
    "def connect_sql(dbfile):\n",
    "    import sqlite3\n",
    "    from sqlite3 import Error\n",
    "\n",
    "    try:\n",
    "        conn = sqlite3.connect(dbfile)\n",
    "        print(\"connect successful\")\n",
    "        return(conn)\n",
    "    except Error as e:\n",
    "        return(e)\n",
    "    \n",
    "database_name = \"chat_with_prof.db\"\n",
    "conn = connect_sql(database_name)\n",
    "conn.close()"
   ]
  },
  {
   "cell_type": "code",
   "execution_count": 7,
   "metadata": {
    "scrolled": true
   },
   "outputs": [
    {
     "name": "stdout",
     "output_type": "stream",
     "text": [
      "connect successful\n",
      "('A', 'Hi')\n",
      "('B', 'Hi')\n"
     ]
    }
   ],
   "source": [
    "def read_data(conn):\n",
    "    import sqlite3\n",
    "    from sqlite3 import Error\n",
    "    \n",
    "    try:\n",
    "        #print(\"in try\")\n",
    "        cursor = conn.execute(\"SELECT Name, Message FROM Chat\")\n",
    "        rows = cursor.fetchall()\n",
    "        #print(rows)\n",
    "        for row in rows:\n",
    "            print(row)\n",
    "    except Error as e:\n",
    "        return(e)\n",
    "\n",
    "\n",
    "database_name = \"chat_with_prof.db\"\n",
    "conn = connect_sql(database_name)\n",
    "read_data(conn)\n",
    "conn.close()"
   ]
  }
 ],
 "metadata": {
  "kernelspec": {
   "display_name": "Python 3",
   "language": "python",
   "name": "python3"
  },
  "language_info": {
   "codemirror_mode": {
    "name": "ipython",
    "version": 3
   },
   "file_extension": ".py",
   "mimetype": "text/x-python",
   "name": "python",
   "nbconvert_exporter": "python",
   "pygments_lexer": "ipython3",
   "version": "3.8.7"
  }
 },
 "nbformat": 4,
 "nbformat_minor": 4
}
