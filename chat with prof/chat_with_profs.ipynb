{
 "cells": [
  {
   "cell_type": "code",
   "execution_count": 2,
   "metadata": {},
   "outputs": [
    {
     "output_type": "stream",
     "name": "stdout",
     "text": [
      "connect successful\n"
     ]
    }
   ],
   "source": [
    "def connect_sql(dbfile):\n",
    "    import sqlite3\n",
    "    from sqlite3 import Error\n",
    "\n",
    "    try:\n",
    "        conn = sqlite3.connect(dbfile)\n",
    "        print(\"connect successful\")\n",
    "        return(conn)\n",
    "    except Error as e:\n",
    "        return(e)\n",
    "    \n",
    "database_name = \"chat_with_prof.db\"\n",
    "conn = connect_sql(database_name)\n",
    "conn.close()"
   ]
  },
  {
   "cell_type": "code",
   "execution_count": 4,
   "metadata": {
    "scrolled": true
   },
   "outputs": [
    {
     "output_type": "stream",
     "name": "stdout",
     "text": [
      "connect successful\nA: Hi\nB: Hi\n"
     ]
    }
   ],
   "source": [
    "def read_data(conn):\n",
    "    import sqlite3\n",
    "    from sqlite3 import Error\n",
    "    \n",
    "    try:\n",
    "        #print(\"in try\")\n",
    "        cursor = conn.execute(\"SELECT Name, Message FROM Chat\")\n",
    "        rows = cursor.fetchall()\n",
    "        #print(rows)\n",
    "        for row in rows:\n",
    "            print(row[0] + \": \" + row[1])\n",
    "    except Error as e:\n",
    "        return(e)\n",
    "\n",
    "\n",
    "database_name = \"chat_with_prof.db\"\n",
    "conn = connect_sql(database_name)\n",
    "read_data(conn)\n",
    "conn.close()"
   ]
  },
  {
   "cell_type": "code",
   "execution_count": 16,
   "metadata": {},
   "outputs": [
    {
     "output_type": "stream",
     "name": "stdout",
     "text": [
      "connect successful\n",
      "A: Hi\n",
      "B: Hi\n",
      "info input success\n",
      "A: Hi\n",
      "B: Hi\n",
      "A: hi\n"
     ]
    }
   ],
   "source": [
    "from datetime import datetime\n",
    "def write_message(conn):  #conn - connection\n",
    "    Username = input(\"username: \")  #saves user input into Username variable\n",
    "    userMessage = input(\"message: \")  #saves user input into userMessage variable\n",
    "    now = datetime.now()  #gets current time\n",
    "    current_time = now.strftime(\"%H:%M\")\n",
    "    info = tuple([Username, userMessage, now])\n",
    "    conn.execute(\"INSERT INTO Chat(Name, Message, Time) \" + \"VALUES(?, ?, ?)\", info)\n",
    "    print(\"info input success\")\n",
    "\n",
    "database_name = \"chat_with_prof.db\"\n",
    "conn = connect_sql(database_name)\n",
    "read_data(conn)\n",
    "write_message(conn)\n",
    "read_data(conn)\n",
    "conn.close()"
   ]
  }
 ],
 "metadata": {
  "kernelspec": {
   "name": "python381jvsc74a57bd06ac845d687ec1b030162187ffb93995ba5de51f8699a79434116d46192a036bb",
   "display_name": "Python 3.8.1 64-bit"
  },
  "language_info": {
   "codemirror_mode": {
    "name": "ipython",
    "version": 3
   },
   "file_extension": ".py",
   "mimetype": "text/x-python",
   "name": "python",
   "nbconvert_exporter": "python",
   "pygments_lexer": "ipython3",
   "version": "3.8.1"
  }
 },
 "nbformat": 4,
 "nbformat_minor": 4
}