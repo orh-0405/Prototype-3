{
 "cells": [
  {
   "cell_type": "code",
   "execution_count": 35,
   "metadata": {},
   "outputs": [
    {
     "name": "stdout",
     "output_type": "stream",
     "text": [
      "if (document.getElementById('1 7').checked || document.getElementById('2 7').checked || document.getElementById('3 7').checked || document.getElementById('4 7').checked || document.getElementById('5 7').checked) { checked += 1 }\n",
      "\n",
      "if (document.getElementById('1 8').checked || document.getElementById('2 8').checked || document.getElementById('3 8').checked || document.getElementById('4 8').checked || document.getElementById('5 8').checked) { checked += 1 }\n",
      "\n",
      "if (document.getElementById('1 9').checked || document.getElementById('2 9').checked || document.getElementById('3 9').checked || document.getElementById('4 9').checked || document.getElementById('5 9').checked) { checked += 1 }\n",
      "\n",
      "if (document.getElementById('1 10').checked || document.getElementById('2 10').checked || document.getElementById('3 10').checked || document.getElementById('4 10').checked || document.getElementById('5 10').checked) { checked += 1 }\n",
      "\n"
     ]
    }
   ],
   "source": [
    "syntax = \"if (document.getElementById('1 {}').checked || document.getElementById('2 {}').checked || \\\n",
    "document.getElementById('3 {}').checked || document.getElementById('4 {}').checked || \\\n",
    "document.getElementById('5 {}').checked) \"\n",
    "syn1 = \"{ checked += 1 }\"\n",
    "\n",
    "\n",
    "\n",
    "for i in range(6, 10):\n",
    "    print(syntax.format(i+1,i+1,i+1,i+1,i+1) + syn1)\n",
    "    print()"
   ]
  }
 ],
 "metadata": {
  "kernelspec": {
   "display_name": "Python 3",
   "language": "python",
   "name": "python3"
  },
  "language_info": {
   "codemirror_mode": {
    "name": "ipython",
    "version": 3
   },
   "file_extension": ".py",
   "mimetype": "text/x-python",
   "name": "python",
   "nbconvert_exporter": "python",
   "pygments_lexer": "ipython3",
   "version": "3.8.7"
  }
 },
 "nbformat": 4,
 "nbformat_minor": 4
}
