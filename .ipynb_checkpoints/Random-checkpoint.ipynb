{
 "cells": [
  {
   "cell_type": "code",
   "execution_count": 20,
   "metadata": {},
   "outputs": [
    {
     "name": "stdout",
     "output_type": "stream",
     "text": [
      "if (document.getElementById('yes1').checked || document.getElementById('no1').checked) { checked += 1 }\n",
      "if (document.getElementById('yes2').checked || document.getElementById('no2').checked) { checked += 1 }\n",
      "if (document.getElementById('yes3').checked || document.getElementById('no3').checked) { checked += 1 }\n",
      "if (document.getElementById('yes4').checked || document.getElementById('no4').checked) { checked += 1 }\n",
      "if (document.getElementById('yes5').checked || document.getElementById('no5').checked) { checked += 1 }\n",
      "if (document.getElementById('yes6').checked || document.getElementById('no6').checked) { checked += 1 }\n"
     ]
    }
   ],
   "source": [
    "syntax = \"if (document.getElementById('{} 1').checked || document.getElementById('{} 2').checked || \\\n",
    "(document.getElementById('{} 3').checked || document.getElementById('{} 4').checked || \\\n",
    "(document.getElementById('{} 5').checked\"\n",
    "syn1 = \"{ checked += 1 }\"\n",
    "\n",
    "\n",
    "\n",
    "for i in range(6):\n",
    "    print(syntax.format(i+1, i+1) + syn1)"
   ]
  }
 ],
 "metadata": {
  "kernelspec": {
   "display_name": "Python 3",
   "language": "python",
   "name": "python3"
  },
  "language_info": {
   "codemirror_mode": {
    "name": "ipython",
    "version": 3
   },
   "file_extension": ".py",
   "mimetype": "text/x-python",
   "name": "python",
   "nbconvert_exporter": "python",
   "pygments_lexer": "ipython3",
   "version": "3.8.7"
  }
 },
 "nbformat": 4,
 "nbformat_minor": 4
}
